{
 "cells": [
  {
   "cell_type": "code",
   "execution_count": 6,
   "id": "c0fa14d1-dabb-4f02-b902-77556ee251a3",
   "metadata": {},
   "outputs": [],
   "source": [
    "import pandas as pd\n",
    "import sqlite3\n",
    "import numpy as np\n",
    "from tqdm import tqdm\n",
    "from collections import defaultdict\n",
    "import progressbar\n",
    "\n",
    "#importing data stored in the database to pandas dataframe\n",
    "\n",
    "database_name = 'RecommendationDatabase.db'\n",
    "conn = sqlite3.connect(database_name)\n",
    "\n",
    "# Define SQL query to select all data from the table\n",
    "sql_query_ratings = \"SELECT * FROM Ratings;\"\n",
    "sql_query_movies = \"SELECT * FROM Movies\"\n",
    "\n",
    "# Read data from SQLite database into a pandas DataFrame\n",
    "reviews = pd.read_sql_query(sql_query_ratings, conn)\n",
    "movies = pd.read_sql_query(sql_query_movies, conn)\n",
    "\n",
    "#reducing size for testing purposes\n",
    "reviews = reviews.head(2000)\n",
    "movies = movies.head(2000)\n",
    "\n",
    "conn.close()\n",
    "\n",
    "\n",
    "user_items = reviews[['user_id', 'movie_id', 'ratings']]\n",
    "\n",
    "user_by_movie = user_items.groupby(['user_id', 'movie_id'])['ratings'].max().unstack()"
   ]
  },
  {
   "cell_type": "code",
   "execution_count": 29,
   "id": "355d889f-3d64-4fe2-bffd-cededa1d7356",
   "metadata": {},
   "outputs": [],
   "source": [
    "def movies_watched(user_id):\n",
    "   \n",
    "    movies = user_by_movie.loc[user_id][user_by_movie.loc[user_id].isnull() == False].index.values\n",
    "\n",
    "    return movies\n",
    "\n",
    "#creating a dictionary where the key is the user_id and the values are array of the movies(movie_id) that the user has seen.\n",
    "def create_user_movie_dict():\n",
    "  \n",
    "    n_users = user_by_movie.shape[0]\n",
    "    movies_seen = dict()\n",
    "\n",
    "    for user1 in range(1, n_users+1):\n",
    "        \n",
    "        # assign list of movies to each user key\n",
    "        movies_seen[user1] = movies_watched(user1)\n",
    "    \n",
    "    return movies_seen\n",
    "\n",
    "movies_seen = create_user_movie_dict()\n",
    "\n",
    "def create_movies_to_analyze(movies_seen, lower_bound=2):\n",
    "   \n",
    "    movies_to_analyze = dict()\n",
    "\n",
    "    for user, movies in movies_seen.items():\n",
    "        if len(movies) > lower_bound:\n",
    "            movies_to_analyze[user] = movies\n",
    "    return movies_to_analyze\n",
    "\n",
    "movies_to_analyze = create_movies_to_analyze(movies_seen)\n",
    "\n",
    "\n",
    "    \n",
    "\n",
    "def compute_euclidean_dist(user1, user2):\n",
    "\n",
    "    # Pull movies for each user\n",
    "    movies1 = movies_to_analyze[user1]\n",
    "    movies2 = movies_to_analyze[user2]\n",
    "\n",
    "    # Find Similar Movies\n",
    "    sim_movs = np.intersect1d(movies1, movies2, assume_unique=True)\n",
    "\n",
    "    \n",
    "    # Calculate euclidean distance between the users\n",
    "    df = user_by_movie.loc[(user1, user2), sim_movs]\n",
    "\n",
    "    dist = np.linalg.norm(df.loc[user1] - df.loc[user2])  \n",
    "    \n",
    "    return dist \n"
   ]
  },
  {
   "cell_type": "code",
   "execution_count": 25,
   "id": "85ba7689-50cf-4411-a12f-0af317976dd2",
   "metadata": {},
   "outputs": [
    {
     "name": "stderr",
     "output_type": "stream",
     "text": [
      "Progress:   0%|                                                             | 0/166 [00:00<?, ?it/s]\n"
     ]
    },
    {
     "ename": "TypingError",
     "evalue": "Failed in nopython mode pipeline (step: nopython frontend)\n\u001b[1m\u001b[1mnon-precise type pyobject\u001b[0m\n\u001b[0m\u001b[1mDuring: typing of argument at C:\\Users\\sharm\\AppData\\Local\\Temp\\ipykernel_7788\\2399587679.py (35)\u001b[0m\n\u001b[1m\nFile \"C:\\Users\\sharm\\AppData\\Local\\Temp\\ipykernel_7788\\2399587679.py\", line 35:\u001b[0m\n\u001b[1mdef create_movies_to_analyze(movies_seen, lower_bound=2):\n    <source elided>\n    \n\u001b[1m@jit(nopython=True)\n\u001b[0m\u001b[1m^\u001b[0m\u001b[0m \n\nThis error may have been caused by the following argument(s):\n- argument 2: \u001b[1mCannot determine Numba type of <class 'dict'>\u001b[0m\n- argument 3: \u001b[1mCannot determine Numba type of <class 'pandas.core.frame.DataFrame'>\u001b[0m\n",
     "output_type": "error",
     "traceback": [
      "\u001b[1;31m---------------------------------------------------------------------------\u001b[0m",
      "\u001b[1;31mTypingError\u001b[0m                               Traceback (most recent call last)",
      "Cell \u001b[1;32mIn[25], line 6\u001b[0m\n\u001b[0;32m      4\u001b[0m \u001b[38;5;28;01mfor\u001b[39;00m j \u001b[38;5;129;01min\u001b[39;00m \u001b[38;5;28mrange\u001b[39m(i \u001b[38;5;241m+\u001b[39m \u001b[38;5;241m1\u001b[39m, \u001b[38;5;28mlen\u001b[39m(users)):\n\u001b[0;32m      5\u001b[0m     user2 \u001b[38;5;241m=\u001b[39m users[j]\n\u001b[1;32m----> 6\u001b[0m     dist \u001b[38;5;241m=\u001b[39m \u001b[43mcompute_euclidean_dist\u001b[49m\u001b[43m(\u001b[49m\u001b[43muser1\u001b[49m\u001b[43m,\u001b[49m\u001b[43m \u001b[49m\u001b[43muser2\u001b[49m\u001b[43m,\u001b[49m\u001b[43m \u001b[49m\u001b[43mmovies_to_analyze\u001b[49m\u001b[43m,\u001b[49m\u001b[43m \u001b[49m\u001b[43muser_by_movie\u001b[49m\u001b[43m)\u001b[49m\n\u001b[0;32m      7\u001b[0m     dist_list\u001b[38;5;241m.\u001b[39mappend((user1, user2, dist))\n",
      "File \u001b[1;32m~\\AppData\\Local\\Programs\\Python\\Python312\\Lib\\site-packages\\numba\\core\\dispatcher.py:468\u001b[0m, in \u001b[0;36m_DispatcherBase._compile_for_args\u001b[1;34m(self, *args, **kws)\u001b[0m\n\u001b[0;32m    464\u001b[0m         msg \u001b[38;5;241m=\u001b[39m (\u001b[38;5;124mf\u001b[39m\u001b[38;5;124m\"\u001b[39m\u001b[38;5;132;01m{\u001b[39;00m\u001b[38;5;28mstr\u001b[39m(e)\u001b[38;5;241m.\u001b[39mrstrip()\u001b[38;5;132;01m}\u001b[39;00m\u001b[38;5;124m \u001b[39m\u001b[38;5;130;01m\\n\u001b[39;00m\u001b[38;5;130;01m\\n\u001b[39;00m\u001b[38;5;124mThis error may have been caused \u001b[39m\u001b[38;5;124m\"\u001b[39m\n\u001b[0;32m    465\u001b[0m                \u001b[38;5;124mf\u001b[39m\u001b[38;5;124m\"\u001b[39m\u001b[38;5;124mby the following argument(s):\u001b[39m\u001b[38;5;130;01m\\n\u001b[39;00m\u001b[38;5;132;01m{\u001b[39;00margs_str\u001b[38;5;132;01m}\u001b[39;00m\u001b[38;5;130;01m\\n\u001b[39;00m\u001b[38;5;124m\"\u001b[39m)\n\u001b[0;32m    466\u001b[0m         e\u001b[38;5;241m.\u001b[39mpatch_message(msg)\n\u001b[1;32m--> 468\u001b[0m     \u001b[43merror_rewrite\u001b[49m\u001b[43m(\u001b[49m\u001b[43me\u001b[49m\u001b[43m,\u001b[49m\u001b[43m \u001b[49m\u001b[38;5;124;43m'\u001b[39;49m\u001b[38;5;124;43mtyping\u001b[39;49m\u001b[38;5;124;43m'\u001b[39;49m\u001b[43m)\u001b[49m\n\u001b[0;32m    469\u001b[0m \u001b[38;5;28;01mexcept\u001b[39;00m errors\u001b[38;5;241m.\u001b[39mUnsupportedError \u001b[38;5;28;01mas\u001b[39;00m e:\n\u001b[0;32m    470\u001b[0m     \u001b[38;5;66;03m# Something unsupported is present in the user code, add help info\u001b[39;00m\n\u001b[0;32m    471\u001b[0m     error_rewrite(e, \u001b[38;5;124m'\u001b[39m\u001b[38;5;124munsupported_error\u001b[39m\u001b[38;5;124m'\u001b[39m)\n",
      "File \u001b[1;32m~\\AppData\\Local\\Programs\\Python\\Python312\\Lib\\site-packages\\numba\\core\\dispatcher.py:409\u001b[0m, in \u001b[0;36m_DispatcherBase._compile_for_args.<locals>.error_rewrite\u001b[1;34m(e, issue_type)\u001b[0m\n\u001b[0;32m    407\u001b[0m     \u001b[38;5;28;01mraise\u001b[39;00m e\n\u001b[0;32m    408\u001b[0m \u001b[38;5;28;01melse\u001b[39;00m:\n\u001b[1;32m--> 409\u001b[0m     \u001b[38;5;28;01mraise\u001b[39;00m e\u001b[38;5;241m.\u001b[39mwith_traceback(\u001b[38;5;28;01mNone\u001b[39;00m)\n",
      "\u001b[1;31mTypingError\u001b[0m: Failed in nopython mode pipeline (step: nopython frontend)\n\u001b[1m\u001b[1mnon-precise type pyobject\u001b[0m\n\u001b[0m\u001b[1mDuring: typing of argument at C:\\Users\\sharm\\AppData\\Local\\Temp\\ipykernel_7788\\2399587679.py (35)\u001b[0m\n\u001b[1m\nFile \"C:\\Users\\sharm\\AppData\\Local\\Temp\\ipykernel_7788\\2399587679.py\", line 35:\u001b[0m\n\u001b[1mdef create_movies_to_analyze(movies_seen, lower_bound=2):\n    <source elided>\n    \n\u001b[1m@jit(nopython=True)\n\u001b[0m\u001b[1m^\u001b[0m\u001b[0m \n\nThis error may have been caused by the following argument(s):\n- argument 2: \u001b[1mCannot determine Numba type of <class 'dict'>\u001b[0m\n- argument 3: \u001b[1mCannot determine Numba type of <class 'pandas.core.frame.DataFrame'>\u001b[0m\n"
     ]
    }
   ],
   "source": [
    "dist_list = []\n",
    "for i in tqdm(range(len(users)), desc=\"Progress\", ncols=100):\n",
    "    user1 = users[i]\n",
    "    for j in range(i + 1, len(users)):\n",
    "        user2 = users[j]\n",
    "        dist = compute_euclidean_dist(user1, user2, movies_to_analyze, user_by_movie)\n",
    "        dist_list.append((user1, user2, dist))"
   ]
  },
  {
   "cell_type": "code",
   "execution_count": null,
   "id": "23010e80-4a2e-4845-82e9-27d320bc5351",
   "metadata": {},
   "outputs": [
    {
     "name": "stderr",
     "output_type": "stream",
     "text": [
      "Progress:   0%|                                                               | 0/5 [00:00<?, ?it/s]"
     ]
    }
   ],
   "source": [
    "num_processes = 4\n",
    "def process_chunk(chunk):\n",
    "    results = []\n",
    "    for i, user1 in enumerate(chunk):\n",
    "        for j, user2 in enumerate(chunk):\n",
    "            if i < j:\n",
    "                results.append((user1, user2, movies_to_analyze))\n",
    "    with Pool() as pool:\n",
    "        return pool.map(compute_euclidean_dist, results)\n",
    "\n",
    "# Assuming users is a list of users and movies_to_analyze is a dictionary\n",
    "users_chunked = [users[i:i + len(users) // num_processes] for i in range(0, len(users), len(users) // num_processes)]\n",
    "dist_list = []\n",
    "for chunk in tqdm(users_chunked, desc=\"Progress\", ncols=100):\n",
    "    dist_list.extend(process_chunk(chunk))\n",
    "\n",
    "df_dists = pd.DataFrame(dist_list, columns=['user1', 'user2', 'eucl_dist'])"
   ]
  },
  {
   "cell_type": "code",
   "execution_count": 26,
   "id": "f8235b43-f188-4f20-b4bd-a3e41be98bbc",
   "metadata": {},
   "outputs": [],
   "source": [
    "from multiprocessing import Pool"
   ]
  },
  {
   "cell_type": "code",
   "execution_count": 16,
   "id": "7675a19d-9974-42ee-9a67-e28968cd8e24",
   "metadata": {},
   "outputs": [
    {
     "name": "stderr",
     "output_type": "stream",
     "text": [
      "C:\\Users\\sharm\\AppData\\Local\\Programs\\Python\\Python312\\Lib\\site-packages\\numba\\core\\decorators.py:250: RuntimeWarning: nopython is set for njit and is ignored\n",
      "  warnings.warn('nopython is set for njit and is ignored', RuntimeWarning)\n"
     ]
    },
    {
     "ename": "TypingError",
     "evalue": "Failed in nopython mode pipeline (step: nopython frontend)\n\u001b[1mUntyped global name 'compute_euclidean_dist':\u001b[0m \u001b[1m\u001b[1mCannot determine Numba type of <class 'function'>\u001b[0m\n\u001b[1m\nFile \"C:\\Users\\sharm\\AppData\\Local\\Temp\\ipykernel_7788\\340760170.py\", line 9:\u001b[0m\n\u001b[1mdef findEuc():\n    <source elided>\n            if user1 != user2:\n\u001b[1m                dist = compute_euclidean_dist(user1, user2)\n\u001b[0m                \u001b[1m^\u001b[0m\u001b[0m\n\u001b[0m",
     "output_type": "error",
     "traceback": [
      "\u001b[1;31m---------------------------------------------------------------------------\u001b[0m",
      "\u001b[1;31mTypingError\u001b[0m                               Traceback (most recent call last)",
      "Cell \u001b[1;32mIn[16], line 14\u001b[0m\n\u001b[0;32m     11\u001b[0m     \u001b[38;5;28;01mreturn\u001b[39;00m \u001b[38;5;28;01mNone\u001b[39;00m\n\u001b[0;32m     13\u001b[0m start \u001b[38;5;241m=\u001b[39m time()\n\u001b[1;32m---> 14\u001b[0m \u001b[43mfindEuc\u001b[49m\u001b[43m(\u001b[49m\u001b[43m)\u001b[49m\n\u001b[0;32m     15\u001b[0m \u001b[38;5;28mprint\u001b[39m(\u001b[38;5;28mround\u001b[39m(time() \u001b[38;5;241m-\u001b[39m start, \u001b[38;5;241m2\u001b[39m))\n",
      "File \u001b[1;32m~\\AppData\\Local\\Programs\\Python\\Python312\\Lib\\site-packages\\numba\\core\\dispatcher.py:468\u001b[0m, in \u001b[0;36m_DispatcherBase._compile_for_args\u001b[1;34m(self, *args, **kws)\u001b[0m\n\u001b[0;32m    464\u001b[0m         msg \u001b[38;5;241m=\u001b[39m (\u001b[38;5;124mf\u001b[39m\u001b[38;5;124m\"\u001b[39m\u001b[38;5;132;01m{\u001b[39;00m\u001b[38;5;28mstr\u001b[39m(e)\u001b[38;5;241m.\u001b[39mrstrip()\u001b[38;5;132;01m}\u001b[39;00m\u001b[38;5;124m \u001b[39m\u001b[38;5;130;01m\\n\u001b[39;00m\u001b[38;5;130;01m\\n\u001b[39;00m\u001b[38;5;124mThis error may have been caused \u001b[39m\u001b[38;5;124m\"\u001b[39m\n\u001b[0;32m    465\u001b[0m                \u001b[38;5;124mf\u001b[39m\u001b[38;5;124m\"\u001b[39m\u001b[38;5;124mby the following argument(s):\u001b[39m\u001b[38;5;130;01m\\n\u001b[39;00m\u001b[38;5;132;01m{\u001b[39;00margs_str\u001b[38;5;132;01m}\u001b[39;00m\u001b[38;5;130;01m\\n\u001b[39;00m\u001b[38;5;124m\"\u001b[39m)\n\u001b[0;32m    466\u001b[0m         e\u001b[38;5;241m.\u001b[39mpatch_message(msg)\n\u001b[1;32m--> 468\u001b[0m     \u001b[43merror_rewrite\u001b[49m\u001b[43m(\u001b[49m\u001b[43me\u001b[49m\u001b[43m,\u001b[49m\u001b[43m \u001b[49m\u001b[38;5;124;43m'\u001b[39;49m\u001b[38;5;124;43mtyping\u001b[39;49m\u001b[38;5;124;43m'\u001b[39;49m\u001b[43m)\u001b[49m\n\u001b[0;32m    469\u001b[0m \u001b[38;5;28;01mexcept\u001b[39;00m errors\u001b[38;5;241m.\u001b[39mUnsupportedError \u001b[38;5;28;01mas\u001b[39;00m e:\n\u001b[0;32m    470\u001b[0m     \u001b[38;5;66;03m# Something unsupported is present in the user code, add help info\u001b[39;00m\n\u001b[0;32m    471\u001b[0m     error_rewrite(e, \u001b[38;5;124m'\u001b[39m\u001b[38;5;124munsupported_error\u001b[39m\u001b[38;5;124m'\u001b[39m)\n",
      "File \u001b[1;32m~\\AppData\\Local\\Programs\\Python\\Python312\\Lib\\site-packages\\numba\\core\\dispatcher.py:409\u001b[0m, in \u001b[0;36m_DispatcherBase._compile_for_args.<locals>.error_rewrite\u001b[1;34m(e, issue_type)\u001b[0m\n\u001b[0;32m    407\u001b[0m     \u001b[38;5;28;01mraise\u001b[39;00m e\n\u001b[0;32m    408\u001b[0m \u001b[38;5;28;01melse\u001b[39;00m:\n\u001b[1;32m--> 409\u001b[0m     \u001b[38;5;28;01mraise\u001b[39;00m e\u001b[38;5;241m.\u001b[39mwith_traceback(\u001b[38;5;28;01mNone\u001b[39;00m)\n",
      "\u001b[1;31mTypingError\u001b[0m: Failed in nopython mode pipeline (step: nopython frontend)\n\u001b[1mUntyped global name 'compute_euclidean_dist':\u001b[0m \u001b[1m\u001b[1mCannot determine Numba type of <class 'function'>\u001b[0m\n\u001b[1m\nFile \"C:\\Users\\sharm\\AppData\\Local\\Temp\\ipykernel_7788\\340760170.py\", line 9:\u001b[0m\n\u001b[1mdef findEuc():\n    <source elided>\n            if user1 != user2:\n\u001b[1m                dist = compute_euclidean_dist(user1, user2)\n\u001b[0m                \u001b[1m^\u001b[0m\u001b[0m\n\u001b[0m"
     ]
    }
   ],
   "source": [
    "dist_list = []\n",
    "users = list(movies_to_analyze.keys())\n",
    "\n",
    "@njit(nopython=True)\n",
    "def findEuc():\n",
    "    for user1 in users:\n",
    "        for user2 in users:\n",
    "            if user1 != user2:\n",
    "                dist = compute_euclidean_dist(user1, user2)\n",
    "                dist_list.append((user1, user2, dist))\n",
    "    return None\n",
    "\n",
    "start = time()\n",
    "findEuc()\n",
    "print(round(time() - start, 2))"
   ]
  },
  {
   "cell_type": "code",
   "execution_count": null,
   "id": "56f98c33-dfbd-453c-9f18-90f29b375ddc",
   "metadata": {},
   "outputs": [],
   "source": []
  },
  {
   "cell_type": "code",
   "execution_count": 17,
   "id": "12a2cdd7-c6f5-415d-9bf9-4beeaffa8fa8",
   "metadata": {},
   "outputs": [],
   "source": [
    "from time import time, sleep\n",
    "from numba import njit\n",
    "from numba import jit"
   ]
  },
  {
   "cell_type": "code",
   "execution_count": 10,
   "id": "31a05cbf-679a-4ba9-96e0-873fdc41368d",
   "metadata": {},
   "outputs": [],
   "source": [
    "df_dists = pd.DataFrame(dist_list, columns=['user1', 'user2', 'eucl_dist'])"
   ]
  }
 ],
 "metadata": {
  "kernelspec": {
   "display_name": "Python 3 (ipykernel)",
   "language": "python",
   "name": "python3"
  },
  "language_info": {
   "codemirror_mode": {
    "name": "ipython",
    "version": 3
   },
   "file_extension": ".py",
   "mimetype": "text/x-python",
   "name": "python",
   "nbconvert_exporter": "python",
   "pygments_lexer": "ipython3",
   "version": "3.12.2"
  }
 },
 "nbformat": 4,
 "nbformat_minor": 5
}
